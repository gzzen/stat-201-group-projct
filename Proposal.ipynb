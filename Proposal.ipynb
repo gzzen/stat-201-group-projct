{
 "cells": [
  {
   "cell_type": "markdown",
   "metadata": {},
   "source": [
    "# Do changes bring difference: A comparative study of Manchester United’s performance after sacking Jose Mourinho"
   ]
  },
  {
   "cell_type": "markdown",
   "metadata": {},
   "source": [
    "Angie Liang, Sam Zhang, Zizhen Guo"
   ]
  },
  {
   "cell_type": "markdown",
   "metadata": {},
   "source": [
    "> Todos\n",
    "> - [ ] One more reference from scientific paper"
   ]
  },
  {
   "cell_type": "markdown",
   "metadata": {},
   "source": [
    "## Introduction\n",
    "Jose Mourinho, the controversial “special one” was sacked by Manchester United by December 18, 2018 ([BBC](https://www.bbc.com/sport/football/46603018)). The Portuguese manager joined the England Premier League solikccer club in May 2016, and took the charge for more than 2 years. Jose is broadly recognized as one of the greatest all-time soccer managers ([ESPN, 2013](https://web.archive.org/web/20131023073918/http://espnfc.com/news/story/_/id/1514848/))."
   ]
  },
  {
   "cell_type": "markdown",
   "metadata": {},
   "source": [
    "<img src=\"intro.assets/jose.jpg\" alt=\"jose\" style=\"zoom:50%;\" />"
   ]
  },
  {
   "cell_type": "markdown",
   "metadata": {},
   "source": [
    "### Purpose\n",
    "Our goal in this study is to quantitatively evaluate the effectiveness of Manchester United sacking Jose Mourinho. In other word, whether or not such a decision significantly improves the United’ performance in Premier League. The goal difference in each match will be investigated as a simplified process of the ELO system (Hvattum & Arntzen, 2009)."
   ]
  },
  {
   "cell_type": "markdown",
   "metadata": {},
   "source": [
    "### Dataset\n",
    "We procecced with the [Premier League results dataset](https://www.football-data.co.uk/englandm.php). After wrangling in the **Preliminary Results** section, our dataset `league_results` record Manchester United’ goal differences in 76 matches over season 2016/17 and 2017/18 coached by Jose Mourinho (`coach == 'old`), and 76 matches in season 19/20 and 20/21 coached by Ole Gunnar Solskjær (`coach == 'new'`), who replaced Jose’s position in December, 2018. "
   ]
  },
  {
   "cell_type": "markdown",
   "metadata": {},
   "source": [
    "### Sampling and hypothesis testing\n",
    "We will construct a null model with bootstrap sampling method, and conduct hypothesis tests with significance level $\\alpha=0.05$ on both the means as the location parameter and standard deviations as the scale parameter. \n",
    "#### Testing on means\n",
    "The mean value represents the averaged-out difference in goals of one manager. We assume $\\mu_m$ is the mean of goal difference for Manchester United under Jose Mourinho’s leadership, and $\\mu_s$ represents the mean goal difference as Ole Gunnar Solskjær took his position.\n",
    "\n",
    "- Null hypothesis $H_0:\\mu_s=\\mu_m$\n",
    "- Alternative hypothesis $H_A:\\mu_s>\\mu_m$\n",
    "\n",
    "#### Testing on standard deviations\n",
    "The standard deviation evaluates the variation of goal difference, or the stability of the team. We want to compare the standard deviation of goal difference along matches between the original coach $\\sigma_m$ and the new coach $\\sigma_s$.\n",
    "- Null hypothesis $H_0:\\sigma_s=\\sigma_m$\n",
    "- Alternative hypothesis $H_A:\\sigma_s<\\sigma_m$"
   ]
  },
  {
   "cell_type": "markdown",
   "metadata": {},
   "source": [
    "## Preliminary Results"
   ]
  },
  {
   "cell_type": "code",
   "execution_count": 1,
   "metadata": {},
   "outputs": [
    {
     "name": "stderr",
     "output_type": "stream",
     "text": [
      "── \u001b[1mAttaching packages\u001b[22m ─────────────────────────────────────── tidyverse 1.3.0 ──\n",
      "\n",
      "\u001b[32m✔\u001b[39m \u001b[34mggplot2\u001b[39m 3.3.2     \u001b[32m✔\u001b[39m \u001b[34mpurrr  \u001b[39m 0.3.4\n",
      "\u001b[32m✔\u001b[39m \u001b[34mtibble \u001b[39m 3.0.3     \u001b[32m✔\u001b[39m \u001b[34mdplyr  \u001b[39m 1.0.2\n",
      "\u001b[32m✔\u001b[39m \u001b[34mtidyr  \u001b[39m 1.1.1     \u001b[32m✔\u001b[39m \u001b[34mstringr\u001b[39m 1.4.0\n",
      "\u001b[32m✔\u001b[39m \u001b[34mreadr  \u001b[39m 1.3.1     \u001b[32m✔\u001b[39m \u001b[34mforcats\u001b[39m 0.5.0\n",
      "\n",
      "Warning message:\n",
      "“package ‘ggplot2’ was built under R version 4.0.1”\n",
      "Warning message:\n",
      "“package ‘tibble’ was built under R version 4.0.2”\n",
      "Warning message:\n",
      "“package ‘tidyr’ was built under R version 4.0.2”\n",
      "Warning message:\n",
      "“package ‘dplyr’ was built under R version 4.0.2”\n",
      "── \u001b[1mConflicts\u001b[22m ────────────────────────────────────────── tidyverse_conflicts() ──\n",
      "\u001b[31m✖\u001b[39m \u001b[34mdplyr\u001b[39m::\u001b[32mfilter()\u001b[39m masks \u001b[34mstats\u001b[39m::filter()\n",
      "\u001b[31m✖\u001b[39m \u001b[34mdplyr\u001b[39m::\u001b[32mlag()\u001b[39m    masks \u001b[34mstats\u001b[39m::lag()\n",
      "\n",
      "Warning message:\n",
      "“package ‘infer’ was built under R version 4.0.2”\n",
      "Loading required package: gridExtra\n",
      "\n",
      "\n",
      "Attaching package: ‘gridExtra’\n",
      "\n",
      "\n",
      "The following object is masked from ‘package:dplyr’:\n",
      "\n",
      "    combine\n",
      "\n",
      "\n",
      "\n",
      "********************************************************\n",
      "\n",
      "Note: As of version 1.0.0, cowplot does not change the\n",
      "\n",
      "  default ggplot2 theme anymore. To recover the previous\n",
      "\n",
      "  behavior, execute:\n",
      "  theme_set(theme_cowplot())\n",
      "\n",
      "********************************************************\n",
      "\n",
      "\n"
     ]
    }
   ],
   "source": [
    "# loading required packeges\n",
    "library(tidyverse)\n",
    "library(repr)\n",
    "library(digest)\n",
    "library(infer)\n",
    "require(gridExtra)\n",
    "library(cowplot)\n",
    "\n",
    "# suppress warnings\n",
    "options(warn=-1)"
   ]
  },
  {
   "cell_type": "markdown",
   "metadata": {},
   "source": [
    "### Import raw data from [football-data.co.uk](https://www.football-data.co.uk/englandm.php) and wrangle the format"
   ]
  },
  {
   "cell_type": "code",
   "execution_count": 2,
   "metadata": {},
   "outputs": [
    {
     "data": {
      "text/html": [
       "<table>\n",
       "<caption>A data.frame: 6 × 2</caption>\n",
       "<thead>\n",
       "\t<tr><th></th><th scope=col>goal_diff</th><th scope=col>coach</th></tr>\n",
       "\t<tr><th></th><th scope=col>&lt;int&gt;</th><th scope=col>&lt;chr&gt;</th></tr>\n",
       "</thead>\n",
       "<tbody>\n",
       "\t<tr><th scope=row>1</th><td> 2</td><td>old</td></tr>\n",
       "\t<tr><th scope=row>2</th><td> 2</td><td>old</td></tr>\n",
       "\t<tr><th scope=row>3</th><td> 1</td><td>old</td></tr>\n",
       "\t<tr><th scope=row>4</th><td>-1</td><td>old</td></tr>\n",
       "\t<tr><th scope=row>5</th><td>-2</td><td>old</td></tr>\n",
       "\t<tr><th scope=row>6</th><td> 3</td><td>old</td></tr>\n",
       "</tbody>\n",
       "</table>\n"
      ],
      "text/latex": [
       "A data.frame: 6 × 2\n",
       "\\begin{tabular}{r|ll}\n",
       "  & goal\\_diff & coach\\\\\n",
       "  & <int> & <chr>\\\\\n",
       "\\hline\n",
       "\t1 &  2 & old\\\\\n",
       "\t2 &  2 & old\\\\\n",
       "\t3 &  1 & old\\\\\n",
       "\t4 & -1 & old\\\\\n",
       "\t5 & -2 & old\\\\\n",
       "\t6 &  3 & old\\\\\n",
       "\\end{tabular}\n"
      ],
      "text/markdown": [
       "\n",
       "A data.frame: 6 × 2\n",
       "\n",
       "| <!--/--> | goal_diff &lt;int&gt; | coach &lt;chr&gt; |\n",
       "|---|---|---|\n",
       "| 1 |  2 | old |\n",
       "| 2 |  2 | old |\n",
       "| 3 |  1 | old |\n",
       "| 4 | -1 | old |\n",
       "| 5 | -2 | old |\n",
       "| 6 |  3 | old |\n",
       "\n"
      ],
      "text/plain": [
       "  goal_diff coach\n",
       "1  2        old  \n",
       "2  2        old  \n",
       "3  1        old  \n",
       "4 -1        old  \n",
       "5 -2        old  \n",
       "6  3        old  "
      ]
     },
     "metadata": {},
     "output_type": "display_data"
    }
   ],
   "source": [
    "league_20_21 <- \n",
    "    read.csv('https://www.football-data.co.uk/mmz4281/2021/E0.csv') %>% \n",
    "    filter(HomeTeam == 'Man United' | AwayTeam == 'Man United') %>%\n",
    "    mutate(goal_diff = (FTHG - FTAG) * (HomeTeam == 'Man United') +\n",
    "              (FTAG - FTHG) * (AwayTeam == 'Man United')) %>% \n",
    "    select(goal_diff)\n",
    "\n",
    "league_19_20 <- \n",
    "    read.csv('https://www.football-data.co.uk/mmz4281/1920/E0.csv') %>% \n",
    "    select(Date, HomeTeam, AwayTeam, FTHG, FTAG) %>%\n",
    "    filter(HomeTeam == 'Man United' | AwayTeam == 'Man United') %>%\n",
    "    mutate(goal_diff = (FTHG - FTAG) * (HomeTeam == 'Man United') +\n",
    "              (FTAG - FTHG) * (AwayTeam == 'Man United')) %>%\n",
    "    select(goal_diff)\n",
    "\n",
    "league_17_18 <- \n",
    "    read.csv('https://www.football-data.co.uk/mmz4281/1718/E0.csv') %>% \n",
    "    select(Date, HomeTeam, AwayTeam, FTHG, FTAG) %>%\n",
    "    filter(HomeTeam == 'Man United' | AwayTeam == 'Man United') %>%\n",
    "    mutate(goal_diff = (FTHG - FTAG) * (HomeTeam == 'Man United') +\n",
    "              (FTAG - FTHG) * (AwayTeam == 'Man United')) %>% \n",
    "    select(goal_diff)\n",
    "\n",
    "league_16_17 <- \n",
    "    read.csv('https://www.football-data.co.uk/mmz4281/1617/E0.csv') %>% \n",
    "    select(Date, HomeTeam, AwayTeam, FTHG, FTAG) %>%\n",
    "    filter(HomeTeam == 'Man United' | AwayTeam == 'Man United') %>%\n",
    "    mutate(goal_diff = (FTHG - FTAG) * (HomeTeam == 'Man United') +\n",
    "              (FTAG - FTHG) * (AwayTeam == 'Man United')) %>%\n",
    "    select(goal_diff)\n",
    "\n",
    "old_coach <- rbind(league_16_17, league_17_18) %>% mutate(coach = 'old') \n",
    "new_coach <- rbind(league_19_20, league_20_21) %>% mutate(coach = 'new')\n",
    "\n",
    "league_results <- rbind(old_coach, new_coach)\n",
    "head(league_results)"
   ]
  },
  {
   "cell_type": "markdown",
   "metadata": {},
   "source": [
    "### Parameters and sample distribution"
   ]
  },
  {
   "cell_type": "code",
   "execution_count": 3,
   "metadata": {},
   "outputs": [
    {
     "name": "stderr",
     "output_type": "stream",
     "text": [
      "`summarise()` ungrouping output (override with `.groups` argument)\n",
      "\n"
     ]
    },
    {
     "data": {
      "text/html": [
       "<table>\n",
       "<caption>A tibble: 2 × 3</caption>\n",
       "<thead>\n",
       "\t<tr><th scope=col>coach</th><th scope=col>mean</th><th scope=col>sd</th></tr>\n",
       "\t<tr><th scope=col>&lt;chr&gt;</th><th scope=col>&lt;dbl&gt;</th><th scope=col>&lt;dbl&gt;</th></tr>\n",
       "</thead>\n",
       "<tbody>\n",
       "\t<tr><td>new</td><td>0.7763158</td><td>1.915541</td></tr>\n",
       "\t<tr><td>old</td><td>0.8552632</td><td>1.537998</td></tr>\n",
       "</tbody>\n",
       "</table>\n"
      ],
      "text/latex": [
       "A tibble: 2 × 3\n",
       "\\begin{tabular}{lll}\n",
       " coach & mean & sd\\\\\n",
       " <chr> & <dbl> & <dbl>\\\\\n",
       "\\hline\n",
       "\t new & 0.7763158 & 1.915541\\\\\n",
       "\t old & 0.8552632 & 1.537998\\\\\n",
       "\\end{tabular}\n"
      ],
      "text/markdown": [
       "\n",
       "A tibble: 2 × 3\n",
       "\n",
       "| coach &lt;chr&gt; | mean &lt;dbl&gt; | sd &lt;dbl&gt; |\n",
       "|---|---|---|\n",
       "| new | 0.7763158 | 1.915541 |\n",
       "| old | 0.8552632 | 1.537998 |\n",
       "\n"
      ],
      "text/plain": [
       "  coach mean      sd      \n",
       "1 new   0.7763158 1.915541\n",
       "2 old   0.8552632 1.537998"
      ]
     },
     "metadata": {},
     "output_type": "display_data"
    },
    {
     "data": {
      "text/html": [
       "-0.0789473684210527"
      ],
      "text/latex": [
       "-0.0789473684210527"
      ],
      "text/markdown": [
       "-0.0789473684210527"
      ],
      "text/plain": [
       "[1] -0.07894737"
      ]
     },
     "metadata": {},
     "output_type": "display_data"
    },
    {
     "data": {
      "text/html": [
       "0.377542997574964"
      ],
      "text/latex": [
       "0.377542997574964"
      ],
      "text/markdown": [
       "0.377542997574964"
      ],
      "text/plain": [
       "[1] 0.377543"
      ]
     },
     "metadata": {},
     "output_type": "display_data"
    }
   ],
   "source": [
    "obs_stat <- league_results %>%\n",
    "    group_by(coach) %>%\n",
    "    summarize(mean = mean(goal_diff), \n",
    "             sd = sd(goal_diff))\n",
    "\n",
    "obs_stat\n",
    "\n",
    "obs_diff_mean <- obs_stat$mean[1] - obs_stat$mean[2]\n",
    "obs_diff_mean\n",
    "\n",
    "obs_sd_sd <- obs_diff_mean <- obs_stat$sd[1] - obs_stat$sd[2]\n",
    "obs_sd_sd"
   ]
  },
  {
   "cell_type": "code",
   "execution_count": 4,
   "metadata": {},
   "outputs": [
    {
     "data": {
      "image/png": "[encoded data removed]",
      "text/plain": [
       "plot without title"
      ]
     },
     "metadata": {
      "image/png": {
       "height": 420,
       "width": 900
      }
     },
     "output_type": "display_data"
    }
   ],
   "source": [
    "# <------- sample distribution with the old coach ----------------\n",
    "\n",
    "goal_diff_before_fired_sample_distribution <- old_coach %>%   \n",
    "ggplot() +\n",
    "geom_histogram(aes(x = goal_diff), color = \"black\", fill = \"white\", binwidth = 1) +\n",
    "geom_vline(aes(xintercept = mean(goal_diff)), color = \"blue\", linetype = \"dashed\", size = 1) + \n",
    "geom_text(x = -2.5, y = 20, label = \"Mean goal diff: 0.855\", size = 4) +\n",
    "geom_text(x = -2.5, y = 18, label = \"Sd of goal diff: 1.53\", size = 4) + \n",
    "labs(x = \"Goal differnce\") + \n",
    "ggtitle(\"Sample distribution of goal diff before the coach was fired\") +\n",
    "theme(text = element_text(size = 15))\n",
    "\n",
    "#---------- Sample distribution with the new coach ----------------\n",
    "\n",
    "goal_diff_after_fired_sample_distribution <- new_coach %>%  \n",
    "ggplot() +\n",
    "geom_histogram(aes(x = goal_diff), color = \"black\", fill = \"white\", binwidth = 1) +\n",
    "geom_vline(aes(xintercept = mean(goal_diff)), color = \"blue\", linetype = \"dashed\", size = 1) + \n",
    "geom_text(x = 5, y = 20, label = \"Mean goal diff: 0.776\", size = 4) +\n",
    "geom_text(x = 5, y = 18, label = \"sd of goal diff: 1.91\", size = 4) +\n",
    "labs(x = \"Goal differnce\") + \n",
    "ggtitle(\"Sample distribution of goal diff after the coach was fired\") +\n",
    "theme(text = element_text(size = 15))\n",
    "\n",
    "options(repr.plot.width = 15)\n",
    "plot_grid(goal_diff_before_fired_sample_distribution, goal_diff_after_fired_sample_distribution)"
   ]
  },
  {
   "cell_type": "markdown",
   "metadata": {},
   "source": [
    "## Methods: Plan\n",
    "\n",
    "Our report is trustworthy because:\n",
    "- We obtain results from the dataset, a random sample, that can generalize to the overall performance of United coached by two coaches, the population.\n",
    "- We use simulation-based and theory-based inferential methods and tend to make precise estimates and draw solid conclusion by setting a low significance level. \n",
    "\n",
    "From the histogram above, we can see that Mourinho is actually better than Solskjær. However, due to sampling variation, we are not ready reach a conclusion yet. Therefore, we plan to implement the following statistical methods to address the gap:\n",
    "- We will use **bootstrap sampling** with reps = 1000 to measure standard error and calculate confidence intervals at a 5% significance level for the estimates under two coaches: mean and standard deviation of goal difference in each replication.\n",
    "- We will do two **hypothesis tests** at a 5% significance level (denote $\\mu_s$ as mean, $\\sigma_s$ as standard deviation for Solskjær and $\\mu_s$ as mean, $\\sigma_s$ as standard deviation for Mourinho): \n",
    "    * On mean goal difference:\n",
    "        * $H_0:\\mu_s=\\mu_m$​​ \n",
    "        * $H_A:\\mu_s>\\mu_m$​​ \n",
    "    * On standard deviation of goal difference:\n",
    "        * $H_0:\\sigma_s=\\sigma_m$​​​ \n",
    "        * $H_A:\\sigma_s<\\sigma_m$​​​​ \n",
    "- We plan to approximate **confidence intervals based on Central Limit Theorem** for the mean goal difference, given that the sample size is sufficiently large (152 > 30), roughly taken independently and the mean is a sum of random terms. \n",
    "\n",
    "We expect to answer the question: whether replacing coach Mourinho with Solskjær significantly improves the United’s performance, based on whether to reject null hypothesis and construction of confidence intervals. These findings provide insights about the performance of each coach and shed light on future decision making, which will benefit the stakeholders of United. This study leads to future questions like: hypothesis testing on the win rate; take in more explanatory variables to measure performance."
   ]
  },
  {
   "cell_type": "markdown",
   "metadata": {},
   "source": [
    "## References"
   ]
  },
  {
   "cell_type": "markdown",
   "metadata": {},
   "source": [
    "BBC. (2018). Jose MOURINHO: Manchester UNITED sack manager. BBC Sport. https://www.bbc.com/sport/football/46603018. \n",
    "\n",
    "ESPNFC. (2013). Greatest managers, No. 9: Jose Mourinho. https://web.archive.org/web/20131023073918/http://espnfc.com/news/story/_/id/1514848/. \n",
    "\n",
    "Hvattum, L. M., & Arntzen, H. (2009, November 19). Using ELO ratings for match result prediction in association football. International Journal of Forecasting. https://www.sciencedirect.com/science/article/pii/S0169207009001708. "
   ]
  }
 ],
 "metadata": {
  "kernelspec": {
   "display_name": "R",
   "language": "R",
   "name": "ir"
  },
  "language_info": {
   "codemirror_mode": "r",
   "file_extension": ".r",
   "mimetype": "text/x-r-source",
   "name": "R",
   "pygments_lexer": "r",
   "version": "4.0.0"
  }
 },
 "nbformat": 4,
 "nbformat_minor": 5
}
