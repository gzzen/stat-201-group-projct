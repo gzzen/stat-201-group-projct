{
 "cells": [
  {
   "cell_type": "code",
   "execution_count": 25,
   "id": "ahead-scanning",
   "metadata": {},
   "outputs": [
    {
     "ename": "ERROR",
     "evalue": "Error in library(Date): there is no package called ‘Date’\n",
     "output_type": "error",
     "traceback": [
      "Error in library(Date): there is no package called ‘Date’\nTraceback:\n",
      "1. library(Date)"
     ]
    }
   ],
   "source": [
    "library(tidyverse)\n",
    "library(repr)\n",
    "library(digest)\n",
    "library(infer)"
   ]
  },
  {
   "cell_type": "code",
   "execution_count": 11,
   "id": "maritime-frost",
   "metadata": {},
   "outputs": [
    {
     "data": {
      "text/html": [
       "<table>\n",
       "<thead><tr><th scope=col>HomeTeam</th><th scope=col>AwayTeam</th><th scope=col>full_time_home_goals</th><th scope=col>full_time_away_goals</th></tr></thead>\n",
       "<tbody>\n",
       "\t<tr><td>Fulham        </td><td>Arsenal       </td><td>0             </td><td>3             </td></tr>\n",
       "\t<tr><td>Crystal Palace</td><td>Southampton   </td><td>1             </td><td>0             </td></tr>\n",
       "\t<tr><td>Liverpool     </td><td>Leeds         </td><td>4             </td><td>3             </td></tr>\n",
       "\t<tr><td>West Ham      </td><td>Newcastle     </td><td>0             </td><td>2             </td></tr>\n",
       "\t<tr><td>West Brom     </td><td>Leicester     </td><td>0             </td><td>3             </td></tr>\n",
       "\t<tr><td>Tottenham     </td><td>Everton       </td><td>0             </td><td>1             </td></tr>\n",
       "</tbody>\n",
       "</table>\n"
      ],
      "text/latex": [
       "\\begin{tabular}{r|llll}\n",
       " HomeTeam & AwayTeam & full\\_time\\_home\\_goals & full\\_time\\_away\\_goals\\\\\n",
       "\\hline\n",
       "\t Fulham         & Arsenal        & 0              & 3             \\\\\n",
       "\t Crystal Palace & Southampton    & 1              & 0             \\\\\n",
       "\t Liverpool      & Leeds          & 4              & 3             \\\\\n",
       "\t West Ham       & Newcastle      & 0              & 2             \\\\\n",
       "\t West Brom      & Leicester      & 0              & 3             \\\\\n",
       "\t Tottenham      & Everton        & 0              & 1             \\\\\n",
       "\\end{tabular}\n"
      ],
      "text/markdown": [
       "\n",
       "| HomeTeam | AwayTeam | full_time_home_goals | full_time_away_goals |\n",
       "|---|---|---|---|\n",
       "| Fulham         | Arsenal        | 0              | 3              |\n",
       "| Crystal Palace | Southampton    | 1              | 0              |\n",
       "| Liverpool      | Leeds          | 4              | 3              |\n",
       "| West Ham       | Newcastle      | 0              | 2              |\n",
       "| West Brom      | Leicester      | 0              | 3              |\n",
       "| Tottenham      | Everton        | 0              | 1              |\n",
       "\n"
      ],
      "text/plain": [
       "  HomeTeam       AwayTeam    full_time_home_goals full_time_away_goals\n",
       "1 Fulham         Arsenal     0                    3                   \n",
       "2 Crystal Palace Southampton 1                    0                   \n",
       "3 Liverpool      Leeds       4                    3                   \n",
       "4 West Ham       Newcastle   0                    2                   \n",
       "5 West Brom      Leicester   0                    3                   \n",
       "6 Tottenham      Everton     0                    1                   "
      ]
     },
     "metadata": {},
     "output_type": "display_data"
    }
   ],
   "source": [
    "league_data <- \n",
    "    read.csv('./premier_league_2021.csv') %>% \n",
    "    select(Date, HomeTeam, AwayTeam, full_time_home_goals, full_time_away_goals)\n",
    "head(tot_data)"
   ]
  },
  {
   "cell_type": "code",
   "execution_count": 12,
   "id": "identical-window",
   "metadata": {},
   "outputs": [
    {
     "data": {
      "text/html": [
       "<table>\n",
       "<thead><tr><th scope=col>Date</th><th scope=col>goal_diff</th></tr></thead>\n",
       "<tbody>\n",
       "\t<tr><td>13/09/2020</td><td>-1        </td></tr>\n",
       "\t<tr><td>27/09/2020</td><td> 0        </td></tr>\n",
       "\t<tr><td>18/10/2020</td><td> 0        </td></tr>\n",
       "\t<tr><td>01/11/2020</td><td> 1        </td></tr>\n",
       "\t<tr><td>21/11/2020</td><td> 2        </td></tr>\n",
       "\t<tr><td>06/12/2020</td><td> 2        </td></tr>\n",
       "</tbody>\n",
       "</table>\n"
      ],
      "text/latex": [
       "\\begin{tabular}{r|ll}\n",
       " Date & goal\\_diff\\\\\n",
       "\\hline\n",
       "\t 13/09/2020 & -1        \\\\\n",
       "\t 27/09/2020 &  0        \\\\\n",
       "\t 18/10/2020 &  0        \\\\\n",
       "\t 01/11/2020 &  1        \\\\\n",
       "\t 21/11/2020 &  2        \\\\\n",
       "\t 06/12/2020 &  2        \\\\\n",
       "\\end{tabular}\n"
      ],
      "text/markdown": [
       "\n",
       "| Date | goal_diff |\n",
       "|---|---|\n",
       "| 13/09/2020 | -1         |\n",
       "| 27/09/2020 |  0         |\n",
       "| 18/10/2020 |  0         |\n",
       "| 01/11/2020 |  1         |\n",
       "| 21/11/2020 |  2         |\n",
       "| 06/12/2020 |  2         |\n",
       "\n"
      ],
      "text/plain": [
       "  Date       goal_diff\n",
       "1 13/09/2020 -1       \n",
       "2 27/09/2020  0       \n",
       "3 18/10/2020  0       \n",
       "4 01/11/2020  1       \n",
       "5 21/11/2020  2       \n",
       "6 06/12/2020  2       "
      ]
     },
     "metadata": {},
     "output_type": "display_data"
    }
   ],
   "source": [
    "tot_home <- \n",
    "    league_data %>%\n",
    "    filter(HomeTeam == 'Tottenham') %>%\n",
    "    mutate(goal_diff = full_time_home_goals - full_time_away_goals) %>%\n",
    "    select(Date, goal_diff)\n",
    "head(tot_home)"
   ]
  },
  {
   "cell_type": "code",
   "execution_count": 14,
   "id": "textile-velvet",
   "metadata": {},
   "outputs": [
    {
     "data": {
      "text/html": [
       "<table>\n",
       "<thead><tr><th scope=col>Date</th><th scope=col>goal_diff</th></tr></thead>\n",
       "<tbody>\n",
       "\t<tr><td>20/09/2020</td><td>3         </td></tr>\n",
       "\t<tr><td>04/10/2020</td><td>5         </td></tr>\n",
       "\t<tr><td>26/10/2020</td><td>1         </td></tr>\n",
       "\t<tr><td>08/11/2020</td><td>1         </td></tr>\n",
       "\t<tr><td>29/11/2020</td><td>0         </td></tr>\n",
       "\t<tr><td>13/12/2020</td><td>0         </td></tr>\n",
       "</tbody>\n",
       "</table>\n"
      ],
      "text/latex": [
       "\\begin{tabular}{r|ll}\n",
       " Date & goal\\_diff\\\\\n",
       "\\hline\n",
       "\t 20/09/2020 & 3         \\\\\n",
       "\t 04/10/2020 & 5         \\\\\n",
       "\t 26/10/2020 & 1         \\\\\n",
       "\t 08/11/2020 & 1         \\\\\n",
       "\t 29/11/2020 & 0         \\\\\n",
       "\t 13/12/2020 & 0         \\\\\n",
       "\\end{tabular}\n"
      ],
      "text/markdown": [
       "\n",
       "| Date | goal_diff |\n",
       "|---|---|\n",
       "| 20/09/2020 | 3          |\n",
       "| 04/10/2020 | 5          |\n",
       "| 26/10/2020 | 1          |\n",
       "| 08/11/2020 | 1          |\n",
       "| 29/11/2020 | 0          |\n",
       "| 13/12/2020 | 0          |\n",
       "\n"
      ],
      "text/plain": [
       "  Date       goal_diff\n",
       "1 20/09/2020 3        \n",
       "2 04/10/2020 5        \n",
       "3 26/10/2020 1        \n",
       "4 08/11/2020 1        \n",
       "5 29/11/2020 0        \n",
       "6 13/12/2020 0        "
      ]
     },
     "metadata": {},
     "output_type": "display_data"
    }
   ],
   "source": [
    "tot_away <- \n",
    "    league_data %>%\n",
    "    filter(AwayTeam == 'Tottenham') %>%\n",
    "    mutate(goal_diff = full_time_away_goals - full_time_home_goals) %>%\n",
    "    select(Date, goal_diff)\n",
    "head(tot_away)"
   ]
  },
  {
   "cell_type": "code",
   "execution_count": 23,
   "id": "decimal-stereo",
   "metadata": {},
   "outputs": [
    {
     "data": {
      "text/html": [
       "<table>\n",
       "<thead><tr><th scope=col>Date</th><th scope=col>goal_diff</th></tr></thead>\n",
       "<tbody>\n",
       "\t<tr><td>13/09/2020</td><td>-1        </td></tr>\n",
       "\t<tr><td>27/09/2020</td><td> 0        </td></tr>\n",
       "\t<tr><td>18/10/2020</td><td> 0        </td></tr>\n",
       "\t<tr><td>01/11/2020</td><td> 1        </td></tr>\n",
       "\t<tr><td>21/11/2020</td><td> 2        </td></tr>\n",
       "\t<tr><td>06/12/2020</td><td> 2        </td></tr>\n",
       "</tbody>\n",
       "</table>\n"
      ],
      "text/latex": [
       "\\begin{tabular}{r|ll}\n",
       " Date & goal\\_diff\\\\\n",
       "\\hline\n",
       "\t 13/09/2020 & -1        \\\\\n",
       "\t 27/09/2020 &  0        \\\\\n",
       "\t 18/10/2020 &  0        \\\\\n",
       "\t 01/11/2020 &  1        \\\\\n",
       "\t 21/11/2020 &  2        \\\\\n",
       "\t 06/12/2020 &  2        \\\\\n",
       "\\end{tabular}\n"
      ],
      "text/markdown": [
       "\n",
       "| Date | goal_diff |\n",
       "|---|---|\n",
       "| 13/09/2020 | -1         |\n",
       "| 27/09/2020 |  0         |\n",
       "| 18/10/2020 |  0         |\n",
       "| 01/11/2020 |  1         |\n",
       "| 21/11/2020 |  2         |\n",
       "| 06/12/2020 |  2         |\n",
       "\n"
      ],
      "text/plain": [
       "  Date       goal_diff\n",
       "1 13/09/2020 -1       \n",
       "2 27/09/2020  0       \n",
       "3 18/10/2020  0       \n",
       "4 01/11/2020  1       \n",
       "5 21/11/2020  2       \n",
       "6 06/12/2020  2       "
      ]
     },
     "metadata": {},
     "output_type": "display_data"
    }
   ],
   "source": [
    "tot_goal_diff <- \n",
    "    rbind(tot_home, tot_away)\n",
    "head(tot_goal_diff)"
   ]
  },
  {
   "cell_type": "markdown",
   "id": "adjacent-tyler",
   "metadata": {},
   "source": [
    "[Jose Mourinho: Tottenham sack manager after 17 months - BBC April 19, 2021](https://www.bbc.com/sport/football/56799400)"
   ]
  },
  {
   "cell_type": "code",
   "execution_count": 51,
   "id": "material-internship",
   "metadata": {},
   "outputs": [],
   "source": [
    "?as.Date()"
   ]
  },
  {
   "cell_type": "code",
   "execution_count": 55,
   "id": "dressed-victim",
   "metadata": {},
   "outputs": [
    {
     "data": {
      "text/html": [
       "<time datetime=\"2020-04-19\">2020-04-19</time>"
      ],
      "text/latex": [
       "2020-04-19"
      ],
      "text/markdown": [
       "2020-04-19"
      ],
      "text/plain": [
       "[1] \"2020-04-19\""
      ]
     },
     "metadata": {},
     "output_type": "display_data"
    }
   ],
   "source": [
    "fired_date <- as.Date('19/04/2021', format='%d/%m/%y')\n",
    "fired_date"
   ]
  },
  {
   "cell_type": "code",
   "execution_count": 59,
   "id": "honey-import",
   "metadata": {},
   "outputs": [
    {
     "data": {
      "text/html": [
       "<table>\n",
       "<thead><tr><th scope=col>goal_diff</th></tr></thead>\n",
       "<tbody>\n",
       "\t<tr><td> 3</td></tr>\n",
       "\t<tr><td> 0</td></tr>\n",
       "\t<tr><td>-2</td></tr>\n",
       "\t<tr><td>-1</td></tr>\n",
       "\t<tr><td> 2</td></tr>\n",
       "\t<tr><td> 4</td></tr>\n",
       "</tbody>\n",
       "</table>\n"
      ],
      "text/latex": [
       "\\begin{tabular}{r|l}\n",
       " goal\\_diff\\\\\n",
       "\\hline\n",
       "\t  3\\\\\n",
       "\t  0\\\\\n",
       "\t -2\\\\\n",
       "\t -1\\\\\n",
       "\t  2\\\\\n",
       "\t  4\\\\\n",
       "\\end{tabular}\n"
      ],
      "text/markdown": [
       "\n",
       "| goal_diff |\n",
       "|---|\n",
       "|  3 |\n",
       "|  0 |\n",
       "| -2 |\n",
       "| -1 |\n",
       "|  2 |\n",
       "|  4 |\n",
       "\n"
      ],
      "text/plain": [
       "  goal_diff\n",
       "1  3       \n",
       "2  0       \n",
       "3 -2       \n",
       "4 -1       \n",
       "5  2       \n",
       "6  4       "
      ]
     },
     "metadata": {},
     "output_type": "display_data"
    }
   ],
   "source": [
    "before_fired <- \n",
    "    tot_goal_diff %>%\n",
    "    filter(as.Date(Date, format='%d/%m/%y') < fired_date) %>%\n",
    "    select(goal_diff)\n",
    "\n",
    "head(before_fired)"
   ]
  },
  {
   "cell_type": "code",
   "execution_count": 60,
   "id": "straight-soviet",
   "metadata": {},
   "outputs": [
    {
     "data": {
      "text/html": [
       "<table>\n",
       "<thead><tr><th scope=col>goal_diff</th></tr></thead>\n",
       "<tbody>\n",
       "\t<tr><td>-1</td></tr>\n",
       "\t<tr><td> 0</td></tr>\n",
       "\t<tr><td> 0</td></tr>\n",
       "\t<tr><td> 1</td></tr>\n",
       "\t<tr><td> 2</td></tr>\n",
       "\t<tr><td> 2</td></tr>\n",
       "</tbody>\n",
       "</table>\n"
      ],
      "text/latex": [
       "\\begin{tabular}{r|l}\n",
       " goal\\_diff\\\\\n",
       "\\hline\n",
       "\t -1\\\\\n",
       "\t  0\\\\\n",
       "\t  0\\\\\n",
       "\t  1\\\\\n",
       "\t  2\\\\\n",
       "\t  2\\\\\n",
       "\\end{tabular}\n"
      ],
      "text/markdown": [
       "\n",
       "| goal_diff |\n",
       "|---|\n",
       "| -1 |\n",
       "|  0 |\n",
       "|  0 |\n",
       "|  1 |\n",
       "|  2 |\n",
       "|  2 |\n",
       "\n"
      ],
      "text/plain": [
       "  goal_diff\n",
       "1 -1       \n",
       "2  0       \n",
       "3  0       \n",
       "4  1       \n",
       "5  2       \n",
       "6  2       "
      ]
     },
     "metadata": {},
     "output_type": "display_data"
    }
   ],
   "source": [
    "after_fired <- \n",
    "    tot_goal_diff %>%\n",
    "    filter(as.Date(Date, format='%d/%m/%y') >= fired_date) %>%\n",
    "    select(goal_diff)\n",
    "\n",
    "head(after_fired)"
   ]
  },
  {
   "cell_type": "code",
   "execution_count": 66,
   "id": "phantom-musical",
   "metadata": {},
   "outputs": [
    {
     "data": {
      "text/html": [
       "17"
      ],
      "text/latex": [
       "17"
      ],
      "text/markdown": [
       "17"
      ],
      "text/plain": [
       "[1] 17"
      ]
     },
     "metadata": {},
     "output_type": "display_data"
    },
    {
     "data": {
      "text/html": [
       "21"
      ],
      "text/latex": [
       "21"
      ],
      "text/markdown": [
       "21"
      ],
      "text/plain": [
       "[1] 21"
      ]
     },
     "metadata": {},
     "output_type": "display_data"
    }
   ],
   "source": [
    "nrow(before_fired)\n",
    "nrow(after_fired)\n"
   ]
  },
  {
   "cell_type": "code",
   "execution_count": 68,
   "id": "boring-offering",
   "metadata": {},
   "outputs": [
    {
     "data": {
      "text/html": [
       "0.352941176470588"
      ],
      "text/latex": [
       "0.352941176470588"
      ],
      "text/markdown": [
       "0.352941176470588"
      ],
      "text/plain": [
       "[1] 0.3529412"
      ]
     },
     "metadata": {},
     "output_type": "display_data"
    },
    {
     "data": {
      "text/html": [
       "0.80952380952381"
      ],
      "text/latex": [
       "0.80952380952381"
      ],
      "text/markdown": [
       "0.80952380952381"
      ],
      "text/plain": [
       "[1] 0.8095238"
      ]
     },
     "metadata": {},
     "output_type": "display_data"
    }
   ],
   "source": [
    "mean(before_fired$goal_diff)\n",
    "mean(after_fired$goal_diff)"
   ]
  },
  {
   "cell_type": "code",
   "execution_count": null,
   "id": "offensive-behalf",
   "metadata": {},
   "outputs": [],
   "source": []
  }
 ],
 "metadata": {
  "kernelspec": {
   "display_name": "R",
   "language": "R",
   "name": "ir"
  },
  "language_info": {
   "codemirror_mode": "r",
   "file_extension": ".r",
   "mimetype": "text/x-r-source",
   "name": "R",
   "pygments_lexer": "r",
   "version": "3.6.1"
  }
 },
 "nbformat": 4,
 "nbformat_minor": 5
}
