{
 "cells": [
  {
   "cell_type": "code",
   "execution_count": 2,
   "id": "ahead-scanning",
   "metadata": {},
   "outputs": [
    {
     "name": "stderr",
     "output_type": "stream",
     "text": [
      "Registered S3 methods overwritten by 'ggplot2':\n",
      "  method         from \n",
      "  [.quosures     rlang\n",
      "  c.quosures     rlang\n",
      "  print.quosures rlang\n",
      "Registered S3 method overwritten by 'rvest':\n",
      "  method            from\n",
      "  read_xml.response xml2\n",
      "── Attaching packages ─────────────────────────────────────── tidyverse 1.2.1 ──\n",
      "✔ ggplot2 3.1.1       ✔ purrr   0.3.2  \n",
      "✔ tibble  2.1.1       ✔ dplyr   0.8.0.1\n",
      "✔ tidyr   0.8.3       ✔ stringr 1.4.0  \n",
      "✔ readr   1.3.1       ✔ forcats 0.4.0  \n",
      "── Conflicts ────────────────────────────────────────── tidyverse_conflicts() ──\n",
      "✖ dplyr::filter() masks stats::filter()\n",
      "✖ dplyr::lag()    masks stats::lag()\n"
     ]
    }
   ],
   "source": [
    "library(tidyverse)\n",
    "library(repr)\n",
    "library(digest)\n",
    "library(infer)"
   ]
  },
  {
   "cell_type": "code",
   "execution_count": 19,
   "id": "maritime-frost",
   "metadata": {},
   "outputs": [
    {
     "data": {
      "text/html": [
       "<table>\n",
       "<thead><tr><th scope=col>goal_diff</th></tr></thead>\n",
       "<tbody>\n",
       "\t<tr><td> 2</td></tr>\n",
       "\t<tr><td> 2</td></tr>\n",
       "\t<tr><td> 1</td></tr>\n",
       "\t<tr><td>-1</td></tr>\n",
       "\t<tr><td>-2</td></tr>\n",
       "\t<tr><td> 3</td></tr>\n",
       "</tbody>\n",
       "</table>\n"
      ],
      "text/latex": [
       "\\begin{tabular}{r|l}\n",
       " goal\\_diff\\\\\n",
       "\\hline\n",
       "\t  2\\\\\n",
       "\t  2\\\\\n",
       "\t  1\\\\\n",
       "\t -1\\\\\n",
       "\t -2\\\\\n",
       "\t  3\\\\\n",
       "\\end{tabular}\n"
      ],
      "text/markdown": [
       "\n",
       "| goal_diff |\n",
       "|---|\n",
       "|  2 |\n",
       "|  2 |\n",
       "|  1 |\n",
       "| -1 |\n",
       "| -2 |\n",
       "|  3 |\n",
       "\n"
      ],
      "text/plain": [
       "  goal_diff\n",
       "1  2       \n",
       "2  2       \n",
       "3  1       \n",
       "4 -1       \n",
       "5 -2       \n",
       "6  3       "
      ]
     },
     "metadata": {},
     "output_type": "display_data"
    },
    {
     "data": {
      "text/html": [
       "<table>\n",
       "<thead><tr><th scope=col>goal_diff</th></tr></thead>\n",
       "<tbody>\n",
       "\t<tr><td> 4</td></tr>\n",
       "\t<tr><td> 0</td></tr>\n",
       "\t<tr><td>-1</td></tr>\n",
       "\t<tr><td> 0</td></tr>\n",
       "\t<tr><td> 1</td></tr>\n",
       "\t<tr><td>-2</td></tr>\n",
       "</tbody>\n",
       "</table>\n"
      ],
      "text/latex": [
       "\\begin{tabular}{r|l}\n",
       " goal\\_diff\\\\\n",
       "\\hline\n",
       "\t  4\\\\\n",
       "\t  0\\\\\n",
       "\t -1\\\\\n",
       "\t  0\\\\\n",
       "\t  1\\\\\n",
       "\t -2\\\\\n",
       "\\end{tabular}\n"
      ],
      "text/markdown": [
       "\n",
       "| goal_diff |\n",
       "|---|\n",
       "|  4 |\n",
       "|  0 |\n",
       "| -1 |\n",
       "|  0 |\n",
       "|  1 |\n",
       "| -2 |\n",
       "\n"
      ],
      "text/plain": [
       "  goal_diff\n",
       "1  4       \n",
       "2  0       \n",
       "3 -1       \n",
       "4  0       \n",
       "5  1       \n",
       "6 -2       "
      ]
     },
     "metadata": {},
     "output_type": "display_data"
    }
   ],
   "source": [
    "league_20_21 <- \n",
    "    read.csv('./pl_20_21.csv') %>% \n",
    "    filter(HomeTeam == 'Man United' | AwayTeam == 'Man United') %>%\n",
    "    mutate(goal_diff = (FTHG - FTAG) * (HomeTeam == 'Man United') +\n",
    "              (FTAG - FTHG) * (AwayTeam == 'Man United')) %>% \n",
    "    select(goal_diff)\n",
    "    \n",
    "\n",
    "league_19_20 <- \n",
    "    read.csv('./pl_19_20.csv') %>% \n",
    "    select(Date, HomeTeam, AwayTeam, FTHG, FTAG) %>%\n",
    "    filter(HomeTeam == 'Man United' | AwayTeam == 'Man United') %>%\n",
    "    mutate(goal_diff = (FTHG - FTAG) * (HomeTeam == 'Man United') +\n",
    "              (FTAG - FTHG) * (AwayTeam == 'Man United')) %>%\n",
    "    select(goal_diff)\n",
    "\n",
    "league_17_18 <- \n",
    "    read.csv('./pl_17_18.csv') %>% \n",
    "    select(Date, HomeTeam, AwayTeam, FTHG, FTAG) %>%\n",
    "    filter(HomeTeam == 'Man United' | AwayTeam == 'Man United') %>%\n",
    "    mutate(goal_diff = (FTHG - FTAG) * (HomeTeam == 'Man United') +\n",
    "              (FTAG - FTHG) * (AwayTeam == 'Man United')) %>% \n",
    "    select(goal_diff)\n",
    "\n",
    "league_16_17 <- \n",
    "    read.csv('./pl_16_17.csv') %>% \n",
    "    select(Date, HomeTeam, AwayTeam, FTHG, FTAG) %>%\n",
    "    filter(HomeTeam == 'Man United' | AwayTeam == 'Man United') %>%\n",
    "    mutate(goal_diff = (FTHG - FTAG) * (HomeTeam == 'Man United') +\n",
    "              (FTAG - FTHG) * (AwayTeam == 'Man United')) %>%\n",
    "    select(goal_diff)\n",
    "\n",
    "mour_stat <- rbind(league_16_17, league_17_18)\n",
    "sols_stat <- rbind(league_19_20, league_20_21)\n",
    "\n",
    "head(mour_stat)\n",
    "head(sols_stat)"
   ]
  }
 ],
 "metadata": {
  "kernelspec": {
   "display_name": "R",
   "language": "R",
   "name": "ir"
  },
  "language_info": {
   "codemirror_mode": "r",
   "file_extension": ".r",
   "mimetype": "text/x-r-source",
   "name": "R",
   "pygments_lexer": "r",
   "version": "3.6.1"
  }
 },
 "nbformat": 4,
 "nbformat_minor": 5
}
